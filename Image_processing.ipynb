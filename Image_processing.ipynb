{
  "nbformat": 4,
  "nbformat_minor": 0,
  "metadata": {
    "colab": {
      "provenance": [],
      "authorship_tag": "ABX9TyOKBc5B/JSejR2EBFSmnal/",
      "include_colab_link": true
    },
    "kernelspec": {
      "name": "python3",
      "display_name": "Python 3"
    },
    "language_info": {
      "name": "python"
    }
  },
  "cells": [
    {
      "cell_type": "markdown",
      "metadata": {
        "id": "view-in-github",
        "colab_type": "text"
      },
      "source": [
        "<a href=\"https://colab.research.google.com/github/dharak22/Machine_Learning/blob/main/Image_processing.ipynb\" target=\"_parent\"><img src=\"https://colab.research.google.com/assets/colab-badge.svg\" alt=\"Open In Colab\"/></a>"
      ]
    },
    {
      "cell_type": "code",
      "execution_count": 1,
      "metadata": {
        "colab": {
          "base_uri": "https://localhost:8080/"
        },
        "id": "4Sbg7HCmdYkN",
        "outputId": "1c79b504-c1d3-447c-feac-c3266ab0804f"
      },
      "outputs": [
        {
          "output_type": "stream",
          "name": "stdout",
          "text": [
            "--2024-10-31 17:28:59--  http://=/\n",
            "Resolving = (=)... failed: Name or service not known.\n",
            "wget: unable to resolve host address ‘=’\n",
            "--2024-10-31 17:28:59--  https://media.4-paws.org/1/e/d/6/1ed6da75afe37d82757142dc7c6633a532f53a7d/VIER%20PFOTEN_2019-03-15_001-2886x1999-1920x1330.jpg\n",
            "Resolving media.4-paws.org (media.4-paws.org)... 116.202.15.201\n",
            "Connecting to media.4-paws.org (media.4-paws.org)|116.202.15.201|:443... connected.\n",
            "HTTP request sent, awaiting response... 200 OK\n",
            "Length: 133359 (130K) [image/jpeg]\n",
            "Saving to: ‘VIER PFOTEN_2019-03-15_001-2886x1999-1920x1330.jpg’\n",
            "\n",
            "VIER PFOTEN_2019-03 100%[===================>] 130.23K   276KB/s    in 0.5s    \n",
            "\n",
            "2024-10-31 17:29:01 (276 KB/s) - ‘VIER PFOTEN_2019-03-15_001-2886x1999-1920x1330.jpg’ saved [133359/133359]\n",
            "\n",
            "FINISHED --2024-10-31 17:29:01--\n",
            "Total wall clock time: 1.3s\n",
            "Downloaded: 1 files, 130K in 0.5s (276 KB/s)\n"
          ]
        }
      ],
      "source": [
        "# getting an image using web get\n",
        "!wget = 'https://media.4-paws.org/1/e/d/6/1ed6da75afe37d82757142dc7c6633a532f53a7d/VIER%20PFOTEN_2019-03-15_001-2886x1999-1920x1330.jpg'"
      ]
    },
    {
      "cell_type": "markdown",
      "source": [
        "**Libraries that can be used for image processing**\n",
        "\n",
        "\n",
        "1.   matplotlib.image\n",
        "2.   Pillow\n",
        "3.   OpenCV(cv2)"
      ],
      "metadata": {
        "id": "mYDvnNiaoU3n"
      }
    },
    {
      "cell_type": "code",
      "source": [
        "#importing the image module from matplotlib library\n",
        "import matplotlib.image as mpimg\n",
        "import matplotlib.pyplot as plt"
      ],
      "metadata": {
        "id": "4MV2Yo9IoY0p"
      },
      "execution_count": 3,
      "outputs": []
    },
    {
      "cell_type": "code",
      "source": [
        "#loading an image through matplotlib.image module\n",
        "img = mpimg.imread('/content/dog.jpg')"
      ],
      "metadata": {
        "id": "-_BW1KGlrWSV"
      },
      "execution_count": 4,
      "outputs": []
    },
    {
      "cell_type": "code",
      "source": [
        "type(img)"
      ],
      "metadata": {
        "colab": {
          "base_uri": "https://localhost:8080/"
        },
        "id": "ZERueyHWry63",
        "outputId": "cea35cc0-11fe-44f4-a5a3-19ac73554a78"
      },
      "execution_count": 5,
      "outputs": [
        {
          "output_type": "execute_result",
          "data": {
            "text/plain": [
              "numpy.ndarray"
            ]
          },
          "metadata": {},
          "execution_count": 5
        }
      ]
    },
    {
      "cell_type": "code",
      "source": [
        "print(img.shape)"
      ],
      "metadata": {
        "colab": {
          "base_uri": "https://localhost:8080/"
        },
        "id": "05M4qlEIr7_T",
        "outputId": "be7039ed-322f-457d-d64f-b55caf9e0094"
      },
      "execution_count": 6,
      "outputs": [
        {
          "output_type": "stream",
          "name": "stdout",
          "text": [
            "(1330, 1920, 3)\n"
          ]
        }
      ]
    }
  ]
}